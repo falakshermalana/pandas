{
 "cells": [
  {
   "cell_type": "code",
   "execution_count": 2,
   "metadata": {},
   "outputs": [],
   "source": [
    "import pandas as pd"
   ]
  },
  {
   "cell_type": "code",
   "execution_count": 3,
   "metadata": {},
   "outputs": [],
   "source": [
    "df= pd.read_csv(\"dataset.csv\")"
   ]
  },
  {
   "cell_type": "code",
   "execution_count": 4,
   "metadata": {},
   "outputs": [
    {
     "data": {
      "text/plain": [
       "(126, 6)"
      ]
     },
     "execution_count": 4,
     "metadata": {},
     "output_type": "execute_result"
    }
   ],
   "source": [
    "df.shape"
   ]
  },
  {
   "cell_type": "code",
   "execution_count": 7,
   "metadata": {},
   "outputs": [
    {
     "data": {
      "text/plain": [
       "<bound method NDFrame.sample of            date                 datetime cash_type                 card  \\\n",
       "0    2024-03-01  2024-03-01 10:15:50.520      card  ANON-0000-0000-0001   \n",
       "1    2024-03-01  2024-03-01 12:19:22.539      card  ANON-0000-0000-0002   \n",
       "2    2024-03-01  2024-03-01 12:20:18.089      card  ANON-0000-0000-0002   \n",
       "3    2024-03-01  2024-03-01 13:46:33.006      card  ANON-0000-0000-0003   \n",
       "4    2024-03-01  2024-03-01 13:48:14.626      card  ANON-0000-0000-0004   \n",
       "..          ...                      ...       ...                  ...   \n",
       "121  2024-03-16  2024-03-16 12:07:53.915      card  ANON-0000-0000-0061   \n",
       "122  2024-03-16  2024-03-16 15:58:18.458      card  ANON-0000-0000-0009   \n",
       "123  2024-03-16  2024-03-16 16:03:21.738      card  ANON-0000-0000-0009   \n",
       "124  2024-03-16  2024-03-16 16:04:11.444      card  ANON-0000-0000-0012   \n",
       "125  2024-03-16  2024-03-16 17:58:07.241      card  ANON-0000-0000-0062   \n",
       "\n",
       "     money          coffee_name  \n",
       "0     38.7                Latte  \n",
       "1     38.7        Hot Chocolate  \n",
       "2     38.7        Hot Chocolate  \n",
       "3     28.9            Americano  \n",
       "4     38.7                Latte  \n",
       "..     ...                  ...  \n",
       "121   28.9            Americano  \n",
       "122   28.9              Cortado  \n",
       "123   28.9              Cortado  \n",
       "124   28.9              Cortado  \n",
       "125   33.8  Americano with Milk  \n",
       "\n",
       "[126 rows x 6 columns]>"
      ]
     },
     "execution_count": 7,
     "metadata": {},
     "output_type": "execute_result"
    }
   ],
   "source": [
    "df.sample"
   ]
  },
  {
   "cell_type": "code",
   "execution_count": 22,
   "metadata": {},
   "outputs": [
    {
     "data": {
      "text/html": [
       "<div>\n",
       "<style scoped>\n",
       "    .dataframe tbody tr th:only-of-type {\n",
       "        vertical-align: middle;\n",
       "    }\n",
       "\n",
       "    .dataframe tbody tr th {\n",
       "        vertical-align: top;\n",
       "    }\n",
       "\n",
       "    .dataframe thead th {\n",
       "        text-align: right;\n",
       "    }\n",
       "</style>\n",
       "<table border=\"1\" class=\"dataframe\">\n",
       "  <thead>\n",
       "    <tr style=\"text-align: right;\">\n",
       "      <th></th>\n",
       "      <th>date</th>\n",
       "      <th>datetime</th>\n",
       "      <th>cash_type</th>\n",
       "      <th>card</th>\n",
       "      <th>money</th>\n",
       "      <th>coffee_name</th>\n",
       "    </tr>\n",
       "  </thead>\n",
       "  <tbody>\n",
       "    <tr>\n",
       "      <th>49</th>\n",
       "      <td>2024-03-07</td>\n",
       "      <td>2024-03-07 11:25:43.977</td>\n",
       "      <td>cash</td>\n",
       "      <td>NaN</td>\n",
       "      <td>40.0</td>\n",
       "      <td>Latte</td>\n",
       "    </tr>\n",
       "    <tr>\n",
       "      <th>9</th>\n",
       "      <td>2024-03-01</td>\n",
       "      <td>2024-03-01 19:23:15.887</td>\n",
       "      <td>card</td>\n",
       "      <td>ANON-0000-0000-0008</td>\n",
       "      <td>33.8</td>\n",
       "      <td>Americano with Milk</td>\n",
       "    </tr>\n",
       "    <tr>\n",
       "      <th>12</th>\n",
       "      <td>2024-03-02</td>\n",
       "      <td>2024-03-02 10:30:35.668</td>\n",
       "      <td>cash</td>\n",
       "      <td>NaN</td>\n",
       "      <td>40.0</td>\n",
       "      <td>Latte</td>\n",
       "    </tr>\n",
       "    <tr>\n",
       "      <th>51</th>\n",
       "      <td>2024-03-07</td>\n",
       "      <td>2024-03-07 15:41:28.784</td>\n",
       "      <td>card</td>\n",
       "      <td>ANON-0000-0000-0033</td>\n",
       "      <td>33.8</td>\n",
       "      <td>Americano with Milk</td>\n",
       "    </tr>\n",
       "  </tbody>\n",
       "</table>\n",
       "</div>"
      ],
      "text/plain": [
       "          date                 datetime cash_type                 card  money  \\\n",
       "49  2024-03-07  2024-03-07 11:25:43.977      cash                  NaN   40.0   \n",
       "9   2024-03-01  2024-03-01 19:23:15.887      card  ANON-0000-0000-0008   33.8   \n",
       "12  2024-03-02  2024-03-02 10:30:35.668      cash                  NaN   40.0   \n",
       "51  2024-03-07  2024-03-07 15:41:28.784      card  ANON-0000-0000-0033   33.8   \n",
       "\n",
       "            coffee_name  \n",
       "49                Latte  \n",
       "9   Americano with Milk  \n",
       "12                Latte  \n",
       "51  Americano with Milk  "
      ]
     },
     "execution_count": 22,
     "metadata": {},
     "output_type": "execute_result"
    }
   ],
   "source": [
    "df.sample(4)"
   ]
  },
  {
   "cell_type": "code",
   "execution_count": 23,
   "metadata": {},
   "outputs": [
    {
     "data": {
      "text/html": [
       "<div>\n",
       "<style scoped>\n",
       "    .dataframe tbody tr th:only-of-type {\n",
       "        vertical-align: middle;\n",
       "    }\n",
       "\n",
       "    .dataframe tbody tr th {\n",
       "        vertical-align: top;\n",
       "    }\n",
       "\n",
       "    .dataframe thead th {\n",
       "        text-align: right;\n",
       "    }\n",
       "</style>\n",
       "<table border=\"1\" class=\"dataframe\">\n",
       "  <thead>\n",
       "    <tr style=\"text-align: right;\">\n",
       "      <th></th>\n",
       "      <th>date</th>\n",
       "      <th>datetime</th>\n",
       "      <th>cash_type</th>\n",
       "      <th>card</th>\n",
       "      <th>money</th>\n",
       "      <th>coffee_name</th>\n",
       "    </tr>\n",
       "  </thead>\n",
       "  <tbody>\n",
       "    <tr>\n",
       "      <th>0</th>\n",
       "      <td>2024-03-01</td>\n",
       "      <td>2024-03-01 10:15:50.520</td>\n",
       "      <td>card</td>\n",
       "      <td>ANON-0000-0000-0001</td>\n",
       "      <td>38.7</td>\n",
       "      <td>Latte</td>\n",
       "    </tr>\n",
       "    <tr>\n",
       "      <th>1</th>\n",
       "      <td>2024-03-01</td>\n",
       "      <td>2024-03-01 12:19:22.539</td>\n",
       "      <td>card</td>\n",
       "      <td>ANON-0000-0000-0002</td>\n",
       "      <td>38.7</td>\n",
       "      <td>Hot Chocolate</td>\n",
       "    </tr>\n",
       "    <tr>\n",
       "      <th>2</th>\n",
       "      <td>2024-03-01</td>\n",
       "      <td>2024-03-01 12:20:18.089</td>\n",
       "      <td>card</td>\n",
       "      <td>ANON-0000-0000-0002</td>\n",
       "      <td>38.7</td>\n",
       "      <td>Hot Chocolate</td>\n",
       "    </tr>\n",
       "    <tr>\n",
       "      <th>3</th>\n",
       "      <td>2024-03-01</td>\n",
       "      <td>2024-03-01 13:46:33.006</td>\n",
       "      <td>card</td>\n",
       "      <td>ANON-0000-0000-0003</td>\n",
       "      <td>28.9</td>\n",
       "      <td>Americano</td>\n",
       "    </tr>\n",
       "    <tr>\n",
       "      <th>4</th>\n",
       "      <td>2024-03-01</td>\n",
       "      <td>2024-03-01 13:48:14.626</td>\n",
       "      <td>card</td>\n",
       "      <td>ANON-0000-0000-0004</td>\n",
       "      <td>38.7</td>\n",
       "      <td>Latte</td>\n",
       "    </tr>\n",
       "  </tbody>\n",
       "</table>\n",
       "</div>"
      ],
      "text/plain": [
       "         date                 datetime cash_type                 card  money  \\\n",
       "0  2024-03-01  2024-03-01 10:15:50.520      card  ANON-0000-0000-0001   38.7   \n",
       "1  2024-03-01  2024-03-01 12:19:22.539      card  ANON-0000-0000-0002   38.7   \n",
       "2  2024-03-01  2024-03-01 12:20:18.089      card  ANON-0000-0000-0002   38.7   \n",
       "3  2024-03-01  2024-03-01 13:46:33.006      card  ANON-0000-0000-0003   28.9   \n",
       "4  2024-03-01  2024-03-01 13:48:14.626      card  ANON-0000-0000-0004   38.7   \n",
       "\n",
       "     coffee_name  \n",
       "0          Latte  \n",
       "1  Hot Chocolate  \n",
       "2  Hot Chocolate  \n",
       "3      Americano  \n",
       "4          Latte  "
      ]
     },
     "execution_count": 23,
     "metadata": {},
     "output_type": "execute_result"
    }
   ],
   "source": [
    "df.head(5)"
   ]
  },
  {
   "cell_type": "code",
   "execution_count": 24,
   "metadata": {},
   "outputs": [
    {
     "data": {
      "text/html": [
       "<div>\n",
       "<style scoped>\n",
       "    .dataframe tbody tr th:only-of-type {\n",
       "        vertical-align: middle;\n",
       "    }\n",
       "\n",
       "    .dataframe tbody tr th {\n",
       "        vertical-align: top;\n",
       "    }\n",
       "\n",
       "    .dataframe thead th {\n",
       "        text-align: right;\n",
       "    }\n",
       "</style>\n",
       "<table border=\"1\" class=\"dataframe\">\n",
       "  <thead>\n",
       "    <tr style=\"text-align: right;\">\n",
       "      <th></th>\n",
       "      <th>date</th>\n",
       "      <th>datetime</th>\n",
       "      <th>cash_type</th>\n",
       "      <th>card</th>\n",
       "      <th>money</th>\n",
       "      <th>coffee_name</th>\n",
       "    </tr>\n",
       "  </thead>\n",
       "  <tbody>\n",
       "    <tr>\n",
       "      <th>121</th>\n",
       "      <td>2024-03-16</td>\n",
       "      <td>2024-03-16 12:07:53.915</td>\n",
       "      <td>card</td>\n",
       "      <td>ANON-0000-0000-0061</td>\n",
       "      <td>28.9</td>\n",
       "      <td>Americano</td>\n",
       "    </tr>\n",
       "    <tr>\n",
       "      <th>122</th>\n",
       "      <td>2024-03-16</td>\n",
       "      <td>2024-03-16 15:58:18.458</td>\n",
       "      <td>card</td>\n",
       "      <td>ANON-0000-0000-0009</td>\n",
       "      <td>28.9</td>\n",
       "      <td>Cortado</td>\n",
       "    </tr>\n",
       "    <tr>\n",
       "      <th>123</th>\n",
       "      <td>2024-03-16</td>\n",
       "      <td>2024-03-16 16:03:21.738</td>\n",
       "      <td>card</td>\n",
       "      <td>ANON-0000-0000-0009</td>\n",
       "      <td>28.9</td>\n",
       "      <td>Cortado</td>\n",
       "    </tr>\n",
       "    <tr>\n",
       "      <th>124</th>\n",
       "      <td>2024-03-16</td>\n",
       "      <td>2024-03-16 16:04:11.444</td>\n",
       "      <td>card</td>\n",
       "      <td>ANON-0000-0000-0012</td>\n",
       "      <td>28.9</td>\n",
       "      <td>Cortado</td>\n",
       "    </tr>\n",
       "    <tr>\n",
       "      <th>125</th>\n",
       "      <td>2024-03-16</td>\n",
       "      <td>2024-03-16 17:58:07.241</td>\n",
       "      <td>card</td>\n",
       "      <td>ANON-0000-0000-0062</td>\n",
       "      <td>33.8</td>\n",
       "      <td>Americano with Milk</td>\n",
       "    </tr>\n",
       "  </tbody>\n",
       "</table>\n",
       "</div>"
      ],
      "text/plain": [
       "           date                 datetime cash_type                 card  \\\n",
       "121  2024-03-16  2024-03-16 12:07:53.915      card  ANON-0000-0000-0061   \n",
       "122  2024-03-16  2024-03-16 15:58:18.458      card  ANON-0000-0000-0009   \n",
       "123  2024-03-16  2024-03-16 16:03:21.738      card  ANON-0000-0000-0009   \n",
       "124  2024-03-16  2024-03-16 16:04:11.444      card  ANON-0000-0000-0012   \n",
       "125  2024-03-16  2024-03-16 17:58:07.241      card  ANON-0000-0000-0062   \n",
       "\n",
       "     money          coffee_name  \n",
       "121   28.9            Americano  \n",
       "122   28.9              Cortado  \n",
       "123   28.9              Cortado  \n",
       "124   28.9              Cortado  \n",
       "125   33.8  Americano with Milk  "
      ]
     },
     "execution_count": 24,
     "metadata": {},
     "output_type": "execute_result"
    }
   ],
   "source": [
    "df.tail(5)"
   ]
  },
  {
   "cell_type": "code",
   "execution_count": 28,
   "metadata": {},
   "outputs": [
    {
     "data": {
      "text/html": [
       "<div>\n",
       "<style scoped>\n",
       "    .dataframe tbody tr th:only-of-type {\n",
       "        vertical-align: middle;\n",
       "    }\n",
       "\n",
       "    .dataframe tbody tr th {\n",
       "        vertical-align: top;\n",
       "    }\n",
       "\n",
       "    .dataframe thead th {\n",
       "        text-align: right;\n",
       "    }\n",
       "</style>\n",
       "<table border=\"1\" class=\"dataframe\">\n",
       "  <thead>\n",
       "    <tr style=\"text-align: right;\">\n",
       "      <th></th>\n",
       "      <th>dating</th>\n",
       "      <th>datetime</th>\n",
       "      <th>cash_type</th>\n",
       "      <th>card</th>\n",
       "      <th>money</th>\n",
       "      <th>coffee_name</th>\n",
       "    </tr>\n",
       "  </thead>\n",
       "  <tbody>\n",
       "    <tr>\n",
       "      <th>0</th>\n",
       "      <td>2024-03-01</td>\n",
       "      <td>2024-03-01 10:15:50.520</td>\n",
       "      <td>card</td>\n",
       "      <td>ANON-0000-0000-0001</td>\n",
       "      <td>38.7</td>\n",
       "      <td>Latte</td>\n",
       "    </tr>\n",
       "    <tr>\n",
       "      <th>1</th>\n",
       "      <td>2024-03-01</td>\n",
       "      <td>2024-03-01 12:19:22.539</td>\n",
       "      <td>card</td>\n",
       "      <td>ANON-0000-0000-0002</td>\n",
       "      <td>38.7</td>\n",
       "      <td>Hot Chocolate</td>\n",
       "    </tr>\n",
       "    <tr>\n",
       "      <th>2</th>\n",
       "      <td>2024-03-01</td>\n",
       "      <td>2024-03-01 12:20:18.089</td>\n",
       "      <td>card</td>\n",
       "      <td>ANON-0000-0000-0002</td>\n",
       "      <td>38.7</td>\n",
       "      <td>Hot Chocolate</td>\n",
       "    </tr>\n",
       "    <tr>\n",
       "      <th>3</th>\n",
       "      <td>2024-03-01</td>\n",
       "      <td>2024-03-01 13:46:33.006</td>\n",
       "      <td>card</td>\n",
       "      <td>ANON-0000-0000-0003</td>\n",
       "      <td>28.9</td>\n",
       "      <td>Americano</td>\n",
       "    </tr>\n",
       "    <tr>\n",
       "      <th>4</th>\n",
       "      <td>2024-03-01</td>\n",
       "      <td>2024-03-01 13:48:14.626</td>\n",
       "      <td>card</td>\n",
       "      <td>ANON-0000-0000-0004</td>\n",
       "      <td>38.7</td>\n",
       "      <td>Latte</td>\n",
       "    </tr>\n",
       "    <tr>\n",
       "      <th>...</th>\n",
       "      <td>...</td>\n",
       "      <td>...</td>\n",
       "      <td>...</td>\n",
       "      <td>...</td>\n",
       "      <td>...</td>\n",
       "      <td>...</td>\n",
       "    </tr>\n",
       "    <tr>\n",
       "      <th>121</th>\n",
       "      <td>2024-03-16</td>\n",
       "      <td>2024-03-16 12:07:53.915</td>\n",
       "      <td>card</td>\n",
       "      <td>ANON-0000-0000-0061</td>\n",
       "      <td>28.9</td>\n",
       "      <td>Americano</td>\n",
       "    </tr>\n",
       "    <tr>\n",
       "      <th>122</th>\n",
       "      <td>2024-03-16</td>\n",
       "      <td>2024-03-16 15:58:18.458</td>\n",
       "      <td>card</td>\n",
       "      <td>ANON-0000-0000-0009</td>\n",
       "      <td>28.9</td>\n",
       "      <td>Cortado</td>\n",
       "    </tr>\n",
       "    <tr>\n",
       "      <th>123</th>\n",
       "      <td>2024-03-16</td>\n",
       "      <td>2024-03-16 16:03:21.738</td>\n",
       "      <td>card</td>\n",
       "      <td>ANON-0000-0000-0009</td>\n",
       "      <td>28.9</td>\n",
       "      <td>Cortado</td>\n",
       "    </tr>\n",
       "    <tr>\n",
       "      <th>124</th>\n",
       "      <td>2024-03-16</td>\n",
       "      <td>2024-03-16 16:04:11.444</td>\n",
       "      <td>card</td>\n",
       "      <td>ANON-0000-0000-0012</td>\n",
       "      <td>28.9</td>\n",
       "      <td>Cortado</td>\n",
       "    </tr>\n",
       "    <tr>\n",
       "      <th>125</th>\n",
       "      <td>2024-03-16</td>\n",
       "      <td>2024-03-16 17:58:07.241</td>\n",
       "      <td>card</td>\n",
       "      <td>ANON-0000-0000-0062</td>\n",
       "      <td>33.8</td>\n",
       "      <td>Americano with Milk</td>\n",
       "    </tr>\n",
       "  </tbody>\n",
       "</table>\n",
       "<p>126 rows × 6 columns</p>\n",
       "</div>"
      ],
      "text/plain": [
       "         dating                 datetime cash_type                 card  \\\n",
       "0    2024-03-01  2024-03-01 10:15:50.520      card  ANON-0000-0000-0001   \n",
       "1    2024-03-01  2024-03-01 12:19:22.539      card  ANON-0000-0000-0002   \n",
       "2    2024-03-01  2024-03-01 12:20:18.089      card  ANON-0000-0000-0002   \n",
       "3    2024-03-01  2024-03-01 13:46:33.006      card  ANON-0000-0000-0003   \n",
       "4    2024-03-01  2024-03-01 13:48:14.626      card  ANON-0000-0000-0004   \n",
       "..          ...                      ...       ...                  ...   \n",
       "121  2024-03-16  2024-03-16 12:07:53.915      card  ANON-0000-0000-0061   \n",
       "122  2024-03-16  2024-03-16 15:58:18.458      card  ANON-0000-0000-0009   \n",
       "123  2024-03-16  2024-03-16 16:03:21.738      card  ANON-0000-0000-0009   \n",
       "124  2024-03-16  2024-03-16 16:04:11.444      card  ANON-0000-0000-0012   \n",
       "125  2024-03-16  2024-03-16 17:58:07.241      card  ANON-0000-0000-0062   \n",
       "\n",
       "     money          coffee_name  \n",
       "0     38.7                Latte  \n",
       "1     38.7        Hot Chocolate  \n",
       "2     38.7        Hot Chocolate  \n",
       "3     28.9            Americano  \n",
       "4     38.7                Latte  \n",
       "..     ...                  ...  \n",
       "121   28.9            Americano  \n",
       "122   28.9              Cortado  \n",
       "123   28.9              Cortado  \n",
       "124   28.9              Cortado  \n",
       "125   33.8  Americano with Milk  \n",
       "\n",
       "[126 rows x 6 columns]"
      ]
     },
     "execution_count": 28,
     "metadata": {},
     "output_type": "execute_result"
    }
   ],
   "source": [
    "df.rename({\"date\":\"dating\"},axis=1)"
   ]
  },
  {
   "cell_type": "code",
   "execution_count": 30,
   "metadata": {},
   "outputs": [
    {
     "data": {
      "text/html": [
       "<div>\n",
       "<style scoped>\n",
       "    .dataframe tbody tr th:only-of-type {\n",
       "        vertical-align: middle;\n",
       "    }\n",
       "\n",
       "    .dataframe tbody tr th {\n",
       "        vertical-align: top;\n",
       "    }\n",
       "\n",
       "    .dataframe thead th {\n",
       "        text-align: right;\n",
       "    }\n",
       "</style>\n",
       "<table border=\"1\" class=\"dataframe\">\n",
       "  <thead>\n",
       "    <tr style=\"text-align: right;\">\n",
       "      <th></th>\n",
       "      <th>date</th>\n",
       "      <th>datetime</th>\n",
       "      <th>cash_type</th>\n",
       "      <th>card</th>\n",
       "      <th>money</th>\n",
       "      <th>coffee_name</th>\n",
       "    </tr>\n",
       "  </thead>\n",
       "  <tbody>\n",
       "    <tr>\n",
       "      <th>0</th>\n",
       "      <td>2024-03-01</td>\n",
       "      <td>2024-03-01 10:15:50.520</td>\n",
       "      <td>card</td>\n",
       "      <td>ANON-0000-0000-0001</td>\n",
       "      <td>38.7</td>\n",
       "      <td>Latte</td>\n",
       "    </tr>\n",
       "    <tr>\n",
       "      <th>1</th>\n",
       "      <td>2024-03-01</td>\n",
       "      <td>2024-03-01 12:19:22.539</td>\n",
       "      <td>card</td>\n",
       "      <td>ANON-0000-0000-0002</td>\n",
       "      <td>38.7</td>\n",
       "      <td>Hot Chocolate</td>\n",
       "    </tr>\n",
       "    <tr>\n",
       "      <th>2</th>\n",
       "      <td>2024-03-01</td>\n",
       "      <td>2024-03-01 12:20:18.089</td>\n",
       "      <td>card</td>\n",
       "      <td>ANON-0000-0000-0002</td>\n",
       "      <td>38.7</td>\n",
       "      <td>Hot Chocolate</td>\n",
       "    </tr>\n",
       "    <tr>\n",
       "      <th>3</th>\n",
       "      <td>2024-03-01</td>\n",
       "      <td>2024-03-01 13:46:33.006</td>\n",
       "      <td>card</td>\n",
       "      <td>ANON-0000-0000-0003</td>\n",
       "      <td>28.9</td>\n",
       "      <td>Americano</td>\n",
       "    </tr>\n",
       "    <tr>\n",
       "      <th>4</th>\n",
       "      <td>2024-03-01</td>\n",
       "      <td>2024-03-01 13:48:14.626</td>\n",
       "      <td>card</td>\n",
       "      <td>ANON-0000-0000-0004</td>\n",
       "      <td>38.7</td>\n",
       "      <td>Latte</td>\n",
       "    </tr>\n",
       "    <tr>\n",
       "      <th>5</th>\n",
       "      <td>2024-03-01</td>\n",
       "      <td>2024-03-01 15:39:47.726</td>\n",
       "      <td>card</td>\n",
       "      <td>ANON-0000-0000-0005</td>\n",
       "      <td>33.8</td>\n",
       "      <td>Americano with Milk</td>\n",
       "    </tr>\n",
       "    <tr>\n",
       "      <th>6</th>\n",
       "      <td>2024-03-01</td>\n",
       "      <td>2024-03-01 16:19:02.756</td>\n",
       "      <td>card</td>\n",
       "      <td>ANON-0000-0000-0006</td>\n",
       "      <td>38.7</td>\n",
       "      <td>Hot Chocolate</td>\n",
       "    </tr>\n",
       "    <tr>\n",
       "      <th>7</th>\n",
       "      <td>2024-03-01</td>\n",
       "      <td>2024-03-01 18:39:03.580</td>\n",
       "      <td>card</td>\n",
       "      <td>ANON-0000-0000-0007</td>\n",
       "      <td>33.8</td>\n",
       "      <td>Americano with Milk</td>\n",
       "    </tr>\n",
       "    <tr>\n",
       "      <th>8</th>\n",
       "      <td>2024-03-01</td>\n",
       "      <td>2024-03-01 19:22:01.762</td>\n",
       "      <td>card</td>\n",
       "      <td>ANON-0000-0000-0008</td>\n",
       "      <td>38.7</td>\n",
       "      <td>Cocoa</td>\n",
       "    </tr>\n",
       "    <tr>\n",
       "      <th>9</th>\n",
       "      <td>2024-03-01</td>\n",
       "      <td>2024-03-01 19:23:15.887</td>\n",
       "      <td>card</td>\n",
       "      <td>ANON-0000-0000-0008</td>\n",
       "      <td>33.8</td>\n",
       "      <td>Americano with Milk</td>\n",
       "    </tr>\n",
       "  </tbody>\n",
       "</table>\n",
       "</div>"
      ],
      "text/plain": [
       "         date                 datetime cash_type                 card  money  \\\n",
       "0  2024-03-01  2024-03-01 10:15:50.520      card  ANON-0000-0000-0001   38.7   \n",
       "1  2024-03-01  2024-03-01 12:19:22.539      card  ANON-0000-0000-0002   38.7   \n",
       "2  2024-03-01  2024-03-01 12:20:18.089      card  ANON-0000-0000-0002   38.7   \n",
       "3  2024-03-01  2024-03-01 13:46:33.006      card  ANON-0000-0000-0003   28.9   \n",
       "4  2024-03-01  2024-03-01 13:48:14.626      card  ANON-0000-0000-0004   38.7   \n",
       "5  2024-03-01  2024-03-01 15:39:47.726      card  ANON-0000-0000-0005   33.8   \n",
       "6  2024-03-01  2024-03-01 16:19:02.756      card  ANON-0000-0000-0006   38.7   \n",
       "7  2024-03-01  2024-03-01 18:39:03.580      card  ANON-0000-0000-0007   33.8   \n",
       "8  2024-03-01  2024-03-01 19:22:01.762      card  ANON-0000-0000-0008   38.7   \n",
       "9  2024-03-01  2024-03-01 19:23:15.887      card  ANON-0000-0000-0008   33.8   \n",
       "\n",
       "           coffee_name  \n",
       "0                Latte  \n",
       "1        Hot Chocolate  \n",
       "2        Hot Chocolate  \n",
       "3            Americano  \n",
       "4                Latte  \n",
       "5  Americano with Milk  \n",
       "6        Hot Chocolate  \n",
       "7  Americano with Milk  \n",
       "8                Cocoa  \n",
       "9  Americano with Milk  "
      ]
     },
     "execution_count": 30,
     "metadata": {},
     "output_type": "execute_result"
    }
   ],
   "source": [
    "df[0:10]"
   ]
  },
  {
   "cell_type": "code",
   "execution_count": 31,
   "metadata": {},
   "outputs": [
    {
     "data": {
      "text/html": [
       "<div>\n",
       "<style scoped>\n",
       "    .dataframe tbody tr th:only-of-type {\n",
       "        vertical-align: middle;\n",
       "    }\n",
       "\n",
       "    .dataframe tbody tr th {\n",
       "        vertical-align: top;\n",
       "    }\n",
       "\n",
       "    .dataframe thead th {\n",
       "        text-align: right;\n",
       "    }\n",
       "</style>\n",
       "<table border=\"1\" class=\"dataframe\">\n",
       "  <thead>\n",
       "    <tr style=\"text-align: right;\">\n",
       "      <th></th>\n",
       "      <th>date</th>\n",
       "      <th>datetime</th>\n",
       "      <th>cash_type</th>\n",
       "      <th>card</th>\n",
       "      <th>money</th>\n",
       "      <th>coffee_name</th>\n",
       "    </tr>\n",
       "  </thead>\n",
       "  <tbody>\n",
       "    <tr>\n",
       "      <th>count</th>\n",
       "      <td>126</td>\n",
       "      <td>126</td>\n",
       "      <td>126</td>\n",
       "      <td>108</td>\n",
       "      <td>126.000000</td>\n",
       "      <td>126</td>\n",
       "    </tr>\n",
       "    <tr>\n",
       "      <th>unique</th>\n",
       "      <td>16</td>\n",
       "      <td>126</td>\n",
       "      <td>2</td>\n",
       "      <td>62</td>\n",
       "      <td>NaN</td>\n",
       "      <td>8</td>\n",
       "    </tr>\n",
       "    <tr>\n",
       "      <th>top</th>\n",
       "      <td>2024-03-09</td>\n",
       "      <td>2024-03-01 10:15:50.520</td>\n",
       "      <td>card</td>\n",
       "      <td>ANON-0000-0000-0012</td>\n",
       "      <td>NaN</td>\n",
       "      <td>Latte</td>\n",
       "    </tr>\n",
       "    <tr>\n",
       "      <th>freq</th>\n",
       "      <td>14</td>\n",
       "      <td>1</td>\n",
       "      <td>108</td>\n",
       "      <td>14</td>\n",
       "      <td>NaN</td>\n",
       "      <td>25</td>\n",
       "    </tr>\n",
       "    <tr>\n",
       "      <th>mean</th>\n",
       "      <td>NaN</td>\n",
       "      <td>NaN</td>\n",
       "      <td>NaN</td>\n",
       "      <td>NaN</td>\n",
       "      <td>33.820635</td>\n",
       "      <td>NaN</td>\n",
       "    </tr>\n",
       "    <tr>\n",
       "      <th>std</th>\n",
       "      <td>NaN</td>\n",
       "      <td>NaN</td>\n",
       "      <td>NaN</td>\n",
       "      <td>NaN</td>\n",
       "      <td>5.088801</td>\n",
       "      <td>NaN</td>\n",
       "    </tr>\n",
       "    <tr>\n",
       "      <th>min</th>\n",
       "      <td>NaN</td>\n",
       "      <td>NaN</td>\n",
       "      <td>NaN</td>\n",
       "      <td>NaN</td>\n",
       "      <td>24.000000</td>\n",
       "      <td>NaN</td>\n",
       "    </tr>\n",
       "    <tr>\n",
       "      <th>25%</th>\n",
       "      <td>NaN</td>\n",
       "      <td>NaN</td>\n",
       "      <td>NaN</td>\n",
       "      <td>NaN</td>\n",
       "      <td>28.900000</td>\n",
       "      <td>NaN</td>\n",
       "    </tr>\n",
       "    <tr>\n",
       "      <th>50%</th>\n",
       "      <td>NaN</td>\n",
       "      <td>NaN</td>\n",
       "      <td>NaN</td>\n",
       "      <td>NaN</td>\n",
       "      <td>33.800000</td>\n",
       "      <td>NaN</td>\n",
       "    </tr>\n",
       "    <tr>\n",
       "      <th>75%</th>\n",
       "      <td>NaN</td>\n",
       "      <td>NaN</td>\n",
       "      <td>NaN</td>\n",
       "      <td>NaN</td>\n",
       "      <td>38.700000</td>\n",
       "      <td>NaN</td>\n",
       "    </tr>\n",
       "    <tr>\n",
       "      <th>max</th>\n",
       "      <td>NaN</td>\n",
       "      <td>NaN</td>\n",
       "      <td>NaN</td>\n",
       "      <td>NaN</td>\n",
       "      <td>40.000000</td>\n",
       "      <td>NaN</td>\n",
       "    </tr>\n",
       "  </tbody>\n",
       "</table>\n",
       "</div>"
      ],
      "text/plain": [
       "              date                 datetime cash_type                 card  \\\n",
       "count          126                      126       126                  108   \n",
       "unique          16                      126         2                   62   \n",
       "top     2024-03-09  2024-03-01 10:15:50.520      card  ANON-0000-0000-0012   \n",
       "freq            14                        1       108                   14   \n",
       "mean           NaN                      NaN       NaN                  NaN   \n",
       "std            NaN                      NaN       NaN                  NaN   \n",
       "min            NaN                      NaN       NaN                  NaN   \n",
       "25%            NaN                      NaN       NaN                  NaN   \n",
       "50%            NaN                      NaN       NaN                  NaN   \n",
       "75%            NaN                      NaN       NaN                  NaN   \n",
       "max            NaN                      NaN       NaN                  NaN   \n",
       "\n",
       "             money coffee_name  \n",
       "count   126.000000         126  \n",
       "unique         NaN           8  \n",
       "top            NaN       Latte  \n",
       "freq           NaN          25  \n",
       "mean     33.820635         NaN  \n",
       "std       5.088801         NaN  \n",
       "min      24.000000         NaN  \n",
       "25%      28.900000         NaN  \n",
       "50%      33.800000         NaN  \n",
       "75%      38.700000         NaN  \n",
       "max      40.000000         NaN  "
      ]
     },
     "execution_count": 31,
     "metadata": {},
     "output_type": "execute_result"
    }
   ],
   "source": [
    "df.describe(include=\"all\")"
   ]
  },
  {
   "cell_type": "code",
   "execution_count": 39,
   "metadata": {},
   "outputs": [
    {
     "data": {
      "text/html": [
       "<div>\n",
       "<style scoped>\n",
       "    .dataframe tbody tr th:only-of-type {\n",
       "        vertical-align: middle;\n",
       "    }\n",
       "\n",
       "    .dataframe tbody tr th {\n",
       "        vertical-align: top;\n",
       "    }\n",
       "\n",
       "    .dataframe thead th {\n",
       "        text-align: right;\n",
       "    }\n",
       "</style>\n",
       "<table border=\"1\" class=\"dataframe\">\n",
       "  <thead>\n",
       "    <tr style=\"text-align: right;\">\n",
       "      <th></th>\n",
       "      <th>date</th>\n",
       "      <th>datetime</th>\n",
       "      <th>cash_type</th>\n",
       "      <th>card</th>\n",
       "      <th>money</th>\n",
       "      <th>coffee_name</th>\n",
       "    </tr>\n",
       "  </thead>\n",
       "  <tbody>\n",
       "    <tr>\n",
       "      <th>count</th>\n",
       "      <td>126</td>\n",
       "      <td>126</td>\n",
       "      <td>126</td>\n",
       "      <td>108</td>\n",
       "      <td>126.0</td>\n",
       "      <td>126</td>\n",
       "    </tr>\n",
       "    <tr>\n",
       "      <th>25%</th>\n",
       "      <td>NaN</td>\n",
       "      <td>NaN</td>\n",
       "      <td>NaN</td>\n",
       "      <td>NaN</td>\n",
       "      <td>28.9</td>\n",
       "      <td>NaN</td>\n",
       "    </tr>\n",
       "  </tbody>\n",
       "</table>\n",
       "</div>"
      ],
      "text/plain": [
       "      date datetime cash_type card  money coffee_name\n",
       "count  126      126       126  108  126.0         126\n",
       "25%    NaN      NaN       NaN  NaN   28.9         NaN"
      ]
     },
     "execution_count": 39,
     "metadata": {},
     "output_type": "execute_result"
    }
   ],
   "source": [
    "df.describe(include=\"all\").iloc[[0,7]]"
   ]
  },
  {
   "cell_type": "code",
   "execution_count": 52,
   "metadata": {},
   "outputs": [
    {
     "data": {
      "text/html": [
       "<div>\n",
       "<style scoped>\n",
       "    .dataframe tbody tr th:only-of-type {\n",
       "        vertical-align: middle;\n",
       "    }\n",
       "\n",
       "    .dataframe tbody tr th {\n",
       "        vertical-align: top;\n",
       "    }\n",
       "\n",
       "    .dataframe thead th {\n",
       "        text-align: right;\n",
       "    }\n",
       "</style>\n",
       "<table border=\"1\" class=\"dataframe\">\n",
       "  <thead>\n",
       "    <tr style=\"text-align: right;\">\n",
       "      <th></th>\n",
       "      <th>date</th>\n",
       "      <th>datetime</th>\n",
       "      <th>cash_type</th>\n",
       "      <th>card</th>\n",
       "      <th>money</th>\n",
       "      <th>coffee_name</th>\n",
       "    </tr>\n",
       "  </thead>\n",
       "  <tbody>\n",
       "    <tr>\n",
       "      <th>min</th>\n",
       "      <td>NaN</td>\n",
       "      <td>NaN</td>\n",
       "      <td>NaN</td>\n",
       "      <td>NaN</td>\n",
       "      <td>24.0</td>\n",
       "      <td>NaN</td>\n",
       "    </tr>\n",
       "    <tr>\n",
       "      <th>max</th>\n",
       "      <td>NaN</td>\n",
       "      <td>NaN</td>\n",
       "      <td>NaN</td>\n",
       "      <td>NaN</td>\n",
       "      <td>38.7</td>\n",
       "      <td>NaN</td>\n",
       "    </tr>\n",
       "  </tbody>\n",
       "</table>\n",
       "</div>"
      ],
      "text/plain": [
       "    date datetime cash_type card  money coffee_name\n",
       "min  NaN      NaN       NaN  NaN   24.0         NaN\n",
       "max  NaN      NaN       NaN  NaN   38.7         NaN"
      ]
     },
     "execution_count": 52,
     "metadata": {},
     "output_type": "execute_result"
    }
   ],
   "source": [
    "df.describe(include=\"all\").loc[[\"min\",\"max\"]]"
   ]
  },
  {
   "cell_type": "code",
   "execution_count": 40,
   "metadata": {},
   "outputs": [
    {
     "data": {
      "text/plain": [
       "Index(['date', 'datetime', 'cash_type', 'card', 'money', 'coffee_name'], dtype='object')"
      ]
     },
     "execution_count": 40,
     "metadata": {},
     "output_type": "execute_result"
    }
   ],
   "source": [
    "df.columns"
   ]
  },
  {
   "cell_type": "markdown",
   "metadata": {},
   "source": [
    "Data Cleaning"
   ]
  },
  {
   "cell_type": "code",
   "execution_count": 41,
   "metadata": {},
   "outputs": [
    {
     "data": {
      "text/html": [
       "<div>\n",
       "<style scoped>\n",
       "    .dataframe tbody tr th:only-of-type {\n",
       "        vertical-align: middle;\n",
       "    }\n",
       "\n",
       "    .dataframe tbody tr th {\n",
       "        vertical-align: top;\n",
       "    }\n",
       "\n",
       "    .dataframe thead th {\n",
       "        text-align: right;\n",
       "    }\n",
       "</style>\n",
       "<table border=\"1\" class=\"dataframe\">\n",
       "  <thead>\n",
       "    <tr style=\"text-align: right;\">\n",
       "      <th></th>\n",
       "      <th>money</th>\n",
       "    </tr>\n",
       "  </thead>\n",
       "  <tbody>\n",
       "    <tr>\n",
       "      <th>count</th>\n",
       "      <td>126.000000</td>\n",
       "    </tr>\n",
       "    <tr>\n",
       "      <th>mean</th>\n",
       "      <td>33.820635</td>\n",
       "    </tr>\n",
       "    <tr>\n",
       "      <th>std</th>\n",
       "      <td>5.088801</td>\n",
       "    </tr>\n",
       "    <tr>\n",
       "      <th>min</th>\n",
       "      <td>24.000000</td>\n",
       "    </tr>\n",
       "    <tr>\n",
       "      <th>25%</th>\n",
       "      <td>28.900000</td>\n",
       "    </tr>\n",
       "    <tr>\n",
       "      <th>50%</th>\n",
       "      <td>33.800000</td>\n",
       "    </tr>\n",
       "    <tr>\n",
       "      <th>75%</th>\n",
       "      <td>38.700000</td>\n",
       "    </tr>\n",
       "    <tr>\n",
       "      <th>max</th>\n",
       "      <td>40.000000</td>\n",
       "    </tr>\n",
       "  </tbody>\n",
       "</table>\n",
       "</div>"
      ],
      "text/plain": [
       "            money\n",
       "count  126.000000\n",
       "mean    33.820635\n",
       "std      5.088801\n",
       "min     24.000000\n",
       "25%     28.900000\n",
       "50%     33.800000\n",
       "75%     38.700000\n",
       "max     40.000000"
      ]
     },
     "execution_count": 41,
     "metadata": {},
     "output_type": "execute_result"
    }
   ],
   "source": [
    "df.describe()"
   ]
  },
  {
   "cell_type": "code",
   "execution_count": 42,
   "metadata": {},
   "outputs": [
    {
     "data": {
      "text/plain": [
       "<bound method DataFrame.select_dtypes of            date                 datetime cash_type                 card  \\\n",
       "0    2024-03-01  2024-03-01 10:15:50.520      card  ANON-0000-0000-0001   \n",
       "1    2024-03-01  2024-03-01 12:19:22.539      card  ANON-0000-0000-0002   \n",
       "2    2024-03-01  2024-03-01 12:20:18.089      card  ANON-0000-0000-0002   \n",
       "3    2024-03-01  2024-03-01 13:46:33.006      card  ANON-0000-0000-0003   \n",
       "4    2024-03-01  2024-03-01 13:48:14.626      card  ANON-0000-0000-0004   \n",
       "..          ...                      ...       ...                  ...   \n",
       "121  2024-03-16  2024-03-16 12:07:53.915      card  ANON-0000-0000-0061   \n",
       "122  2024-03-16  2024-03-16 15:58:18.458      card  ANON-0000-0000-0009   \n",
       "123  2024-03-16  2024-03-16 16:03:21.738      card  ANON-0000-0000-0009   \n",
       "124  2024-03-16  2024-03-16 16:04:11.444      card  ANON-0000-0000-0012   \n",
       "125  2024-03-16  2024-03-16 17:58:07.241      card  ANON-0000-0000-0062   \n",
       "\n",
       "     money          coffee_name  \n",
       "0     38.7                Latte  \n",
       "1     38.7        Hot Chocolate  \n",
       "2     38.7        Hot Chocolate  \n",
       "3     28.9            Americano  \n",
       "4     38.7                Latte  \n",
       "..     ...                  ...  \n",
       "121   28.9            Americano  \n",
       "122   28.9              Cortado  \n",
       "123   28.9              Cortado  \n",
       "124   28.9              Cortado  \n",
       "125   33.8  Americano with Milk  \n",
       "\n",
       "[126 rows x 6 columns]>"
      ]
     },
     "execution_count": 42,
     "metadata": {},
     "output_type": "execute_result"
    }
   ],
   "source": [
    "df.select_dtypes"
   ]
  },
  {
   "cell_type": "markdown",
   "metadata": {},
   "source": [
    "Data Cleaning"
   ]
  },
  {
   "cell_type": "code",
   "execution_count": 43,
   "metadata": {},
   "outputs": [
    {
     "data": {
      "text/html": [
       "<div>\n",
       "<style scoped>\n",
       "    .dataframe tbody tr th:only-of-type {\n",
       "        vertical-align: middle;\n",
       "    }\n",
       "\n",
       "    .dataframe tbody tr th {\n",
       "        vertical-align: top;\n",
       "    }\n",
       "\n",
       "    .dataframe thead th {\n",
       "        text-align: right;\n",
       "    }\n",
       "</style>\n",
       "<table border=\"1\" class=\"dataframe\">\n",
       "  <thead>\n",
       "    <tr style=\"text-align: right;\">\n",
       "      <th></th>\n",
       "      <th>date</th>\n",
       "      <th>datetime</th>\n",
       "      <th>cash_type</th>\n",
       "      <th>card</th>\n",
       "      <th>money</th>\n",
       "      <th>coffee_name</th>\n",
       "    </tr>\n",
       "  </thead>\n",
       "  <tbody>\n",
       "    <tr>\n",
       "      <th>0</th>\n",
       "      <td>2024-03-01</td>\n",
       "      <td>2024-03-01 10:15:50.520</td>\n",
       "      <td>card</td>\n",
       "      <td>ANON-0000-0000-0001</td>\n",
       "      <td>38.7</td>\n",
       "      <td>Latte</td>\n",
       "    </tr>\n",
       "    <tr>\n",
       "      <th>1</th>\n",
       "      <td>2024-03-01</td>\n",
       "      <td>2024-03-01 12:19:22.539</td>\n",
       "      <td>card</td>\n",
       "      <td>ANON-0000-0000-0002</td>\n",
       "      <td>38.7</td>\n",
       "      <td>Hot Chocolate</td>\n",
       "    </tr>\n",
       "    <tr>\n",
       "      <th>2</th>\n",
       "      <td>2024-03-01</td>\n",
       "      <td>2024-03-01 12:20:18.089</td>\n",
       "      <td>card</td>\n",
       "      <td>ANON-0000-0000-0002</td>\n",
       "      <td>38.7</td>\n",
       "      <td>Hot Chocolate</td>\n",
       "    </tr>\n",
       "    <tr>\n",
       "      <th>3</th>\n",
       "      <td>2024-03-01</td>\n",
       "      <td>2024-03-01 13:46:33.006</td>\n",
       "      <td>card</td>\n",
       "      <td>ANON-0000-0000-0003</td>\n",
       "      <td>28.9</td>\n",
       "      <td>Americano</td>\n",
       "    </tr>\n",
       "    <tr>\n",
       "      <th>4</th>\n",
       "      <td>2024-03-01</td>\n",
       "      <td>2024-03-01 13:48:14.626</td>\n",
       "      <td>card</td>\n",
       "      <td>ANON-0000-0000-0004</td>\n",
       "      <td>38.7</td>\n",
       "      <td>Latte</td>\n",
       "    </tr>\n",
       "    <tr>\n",
       "      <th>...</th>\n",
       "      <td>...</td>\n",
       "      <td>...</td>\n",
       "      <td>...</td>\n",
       "      <td>...</td>\n",
       "      <td>...</td>\n",
       "      <td>...</td>\n",
       "    </tr>\n",
       "    <tr>\n",
       "      <th>121</th>\n",
       "      <td>2024-03-16</td>\n",
       "      <td>2024-03-16 12:07:53.915</td>\n",
       "      <td>card</td>\n",
       "      <td>ANON-0000-0000-0061</td>\n",
       "      <td>28.9</td>\n",
       "      <td>Americano</td>\n",
       "    </tr>\n",
       "    <tr>\n",
       "      <th>122</th>\n",
       "      <td>2024-03-16</td>\n",
       "      <td>2024-03-16 15:58:18.458</td>\n",
       "      <td>card</td>\n",
       "      <td>ANON-0000-0000-0009</td>\n",
       "      <td>28.9</td>\n",
       "      <td>Cortado</td>\n",
       "    </tr>\n",
       "    <tr>\n",
       "      <th>123</th>\n",
       "      <td>2024-03-16</td>\n",
       "      <td>2024-03-16 16:03:21.738</td>\n",
       "      <td>card</td>\n",
       "      <td>ANON-0000-0000-0009</td>\n",
       "      <td>28.9</td>\n",
       "      <td>Cortado</td>\n",
       "    </tr>\n",
       "    <tr>\n",
       "      <th>124</th>\n",
       "      <td>2024-03-16</td>\n",
       "      <td>2024-03-16 16:04:11.444</td>\n",
       "      <td>card</td>\n",
       "      <td>ANON-0000-0000-0012</td>\n",
       "      <td>28.9</td>\n",
       "      <td>Cortado</td>\n",
       "    </tr>\n",
       "    <tr>\n",
       "      <th>125</th>\n",
       "      <td>2024-03-16</td>\n",
       "      <td>2024-03-16 17:58:07.241</td>\n",
       "      <td>card</td>\n",
       "      <td>ANON-0000-0000-0062</td>\n",
       "      <td>33.8</td>\n",
       "      <td>Americano with Milk</td>\n",
       "    </tr>\n",
       "  </tbody>\n",
       "</table>\n",
       "<p>108 rows × 6 columns</p>\n",
       "</div>"
      ],
      "text/plain": [
       "           date                 datetime cash_type                 card  \\\n",
       "0    2024-03-01  2024-03-01 10:15:50.520      card  ANON-0000-0000-0001   \n",
       "1    2024-03-01  2024-03-01 12:19:22.539      card  ANON-0000-0000-0002   \n",
       "2    2024-03-01  2024-03-01 12:20:18.089      card  ANON-0000-0000-0002   \n",
       "3    2024-03-01  2024-03-01 13:46:33.006      card  ANON-0000-0000-0003   \n",
       "4    2024-03-01  2024-03-01 13:48:14.626      card  ANON-0000-0000-0004   \n",
       "..          ...                      ...       ...                  ...   \n",
       "121  2024-03-16  2024-03-16 12:07:53.915      card  ANON-0000-0000-0061   \n",
       "122  2024-03-16  2024-03-16 15:58:18.458      card  ANON-0000-0000-0009   \n",
       "123  2024-03-16  2024-03-16 16:03:21.738      card  ANON-0000-0000-0009   \n",
       "124  2024-03-16  2024-03-16 16:04:11.444      card  ANON-0000-0000-0012   \n",
       "125  2024-03-16  2024-03-16 17:58:07.241      card  ANON-0000-0000-0062   \n",
       "\n",
       "     money          coffee_name  \n",
       "0     38.7                Latte  \n",
       "1     38.7        Hot Chocolate  \n",
       "2     38.7        Hot Chocolate  \n",
       "3     28.9            Americano  \n",
       "4     38.7                Latte  \n",
       "..     ...                  ...  \n",
       "121   28.9            Americano  \n",
       "122   28.9              Cortado  \n",
       "123   28.9              Cortado  \n",
       "124   28.9              Cortado  \n",
       "125   33.8  Americano with Milk  \n",
       "\n",
       "[108 rows x 6 columns]"
      ]
     },
     "execution_count": 43,
     "metadata": {},
     "output_type": "execute_result"
    }
   ],
   "source": [
    "df.dropna()"
   ]
  },
  {
   "cell_type": "code",
   "execution_count": 44,
   "metadata": {},
   "outputs": [],
   "source": [
    "df.dropna(inplace=True)"
   ]
  },
  {
   "cell_type": "code",
   "execution_count": 46,
   "metadata": {},
   "outputs": [],
   "source": [
    "df.fillna(100,inplace=True)"
   ]
  },
  {
   "cell_type": "code",
   "execution_count": 47,
   "metadata": {},
   "outputs": [
    {
     "data": {
      "text/html": [
       "<div>\n",
       "<style scoped>\n",
       "    .dataframe tbody tr th:only-of-type {\n",
       "        vertical-align: middle;\n",
       "    }\n",
       "\n",
       "    .dataframe tbody tr th {\n",
       "        vertical-align: top;\n",
       "    }\n",
       "\n",
       "    .dataframe thead th {\n",
       "        text-align: right;\n",
       "    }\n",
       "</style>\n",
       "<table border=\"1\" class=\"dataframe\">\n",
       "  <thead>\n",
       "    <tr style=\"text-align: right;\">\n",
       "      <th></th>\n",
       "      <th>date</th>\n",
       "      <th>datetime</th>\n",
       "      <th>cash_type</th>\n",
       "      <th>card</th>\n",
       "      <th>money</th>\n",
       "      <th>coffee_name</th>\n",
       "    </tr>\n",
       "  </thead>\n",
       "  <tbody>\n",
       "  </tbody>\n",
       "</table>\n",
       "</div>"
      ],
      "text/plain": [
       "Empty DataFrame\n",
       "Columns: [date, datetime, cash_type, card, money, coffee_name]\n",
       "Index: []"
      ]
     },
     "execution_count": 47,
     "metadata": {},
     "output_type": "execute_result"
    }
   ],
   "source": [
    "df[df[\"coffee_name\"].isnull()]"
   ]
  },
  {
   "cell_type": "code",
   "execution_count": 48,
   "metadata": {},
   "outputs": [
    {
     "data": {
      "text/plain": [
       "0      False\n",
       "1      False\n",
       "2      False\n",
       "3      False\n",
       "4      False\n",
       "       ...  \n",
       "121    False\n",
       "122    False\n",
       "123    False\n",
       "124    False\n",
       "125    False\n",
       "Length: 108, dtype: bool"
      ]
     },
     "execution_count": 48,
     "metadata": {},
     "output_type": "execute_result"
    }
   ],
   "source": [
    "df.duplicated()"
   ]
  },
  {
   "cell_type": "code",
   "execution_count": 50,
   "metadata": {},
   "outputs": [
    {
     "data": {
      "text/html": [
       "<div>\n",
       "<style scoped>\n",
       "    .dataframe tbody tr th:only-of-type {\n",
       "        vertical-align: middle;\n",
       "    }\n",
       "\n",
       "    .dataframe tbody tr th {\n",
       "        vertical-align: top;\n",
       "    }\n",
       "\n",
       "    .dataframe thead th {\n",
       "        text-align: right;\n",
       "    }\n",
       "</style>\n",
       "<table border=\"1\" class=\"dataframe\">\n",
       "  <thead>\n",
       "    <tr style=\"text-align: right;\">\n",
       "      <th></th>\n",
       "      <th>date</th>\n",
       "      <th>datetime</th>\n",
       "      <th>cash_type</th>\n",
       "      <th>card</th>\n",
       "      <th>money</th>\n",
       "      <th>coffee_name</th>\n",
       "    </tr>\n",
       "  </thead>\n",
       "  <tbody>\n",
       "    <tr>\n",
       "      <th>0</th>\n",
       "      <td>2024-03-01</td>\n",
       "      <td>2024-03-01 10:15:50.520</td>\n",
       "      <td>card</td>\n",
       "      <td>ANON-0000-0000-0001</td>\n",
       "      <td>38.7</td>\n",
       "      <td>Latte</td>\n",
       "    </tr>\n",
       "    <tr>\n",
       "      <th>1</th>\n",
       "      <td>2024-03-01</td>\n",
       "      <td>2024-03-01 12:19:22.539</td>\n",
       "      <td>card</td>\n",
       "      <td>ANON-0000-0000-0002</td>\n",
       "      <td>38.7</td>\n",
       "      <td>Hot Chocolate</td>\n",
       "    </tr>\n",
       "    <tr>\n",
       "      <th>2</th>\n",
       "      <td>2024-03-01</td>\n",
       "      <td>2024-03-01 12:20:18.089</td>\n",
       "      <td>card</td>\n",
       "      <td>ANON-0000-0000-0002</td>\n",
       "      <td>38.7</td>\n",
       "      <td>Hot Chocolate</td>\n",
       "    </tr>\n",
       "    <tr>\n",
       "      <th>3</th>\n",
       "      <td>2024-03-01</td>\n",
       "      <td>2024-03-01 13:46:33.006</td>\n",
       "      <td>card</td>\n",
       "      <td>ANON-0000-0000-0003</td>\n",
       "      <td>28.9</td>\n",
       "      <td>Americano</td>\n",
       "    </tr>\n",
       "    <tr>\n",
       "      <th>4</th>\n",
       "      <td>2024-03-01</td>\n",
       "      <td>2024-03-01 13:48:14.626</td>\n",
       "      <td>card</td>\n",
       "      <td>ANON-0000-0000-0004</td>\n",
       "      <td>38.7</td>\n",
       "      <td>Latte</td>\n",
       "    </tr>\n",
       "    <tr>\n",
       "      <th>...</th>\n",
       "      <td>...</td>\n",
       "      <td>...</td>\n",
       "      <td>...</td>\n",
       "      <td>...</td>\n",
       "      <td>...</td>\n",
       "      <td>...</td>\n",
       "    </tr>\n",
       "    <tr>\n",
       "      <th>121</th>\n",
       "      <td>2024-03-16</td>\n",
       "      <td>2024-03-16 12:07:53.915</td>\n",
       "      <td>card</td>\n",
       "      <td>ANON-0000-0000-0061</td>\n",
       "      <td>28.9</td>\n",
       "      <td>Americano</td>\n",
       "    </tr>\n",
       "    <tr>\n",
       "      <th>122</th>\n",
       "      <td>2024-03-16</td>\n",
       "      <td>2024-03-16 15:58:18.458</td>\n",
       "      <td>card</td>\n",
       "      <td>ANON-0000-0000-0009</td>\n",
       "      <td>28.9</td>\n",
       "      <td>Cortado</td>\n",
       "    </tr>\n",
       "    <tr>\n",
       "      <th>123</th>\n",
       "      <td>2024-03-16</td>\n",
       "      <td>2024-03-16 16:03:21.738</td>\n",
       "      <td>card</td>\n",
       "      <td>ANON-0000-0000-0009</td>\n",
       "      <td>28.9</td>\n",
       "      <td>Cortado</td>\n",
       "    </tr>\n",
       "    <tr>\n",
       "      <th>124</th>\n",
       "      <td>2024-03-16</td>\n",
       "      <td>2024-03-16 16:04:11.444</td>\n",
       "      <td>card</td>\n",
       "      <td>ANON-0000-0000-0012</td>\n",
       "      <td>28.9</td>\n",
       "      <td>Cortado</td>\n",
       "    </tr>\n",
       "    <tr>\n",
       "      <th>125</th>\n",
       "      <td>2024-03-16</td>\n",
       "      <td>2024-03-16 17:58:07.241</td>\n",
       "      <td>card</td>\n",
       "      <td>ANON-0000-0000-0062</td>\n",
       "      <td>33.8</td>\n",
       "      <td>Americano with Milk</td>\n",
       "    </tr>\n",
       "  </tbody>\n",
       "</table>\n",
       "<p>108 rows × 6 columns</p>\n",
       "</div>"
      ],
      "text/plain": [
       "           date                 datetime cash_type                 card  \\\n",
       "0    2024-03-01  2024-03-01 10:15:50.520      card  ANON-0000-0000-0001   \n",
       "1    2024-03-01  2024-03-01 12:19:22.539      card  ANON-0000-0000-0002   \n",
       "2    2024-03-01  2024-03-01 12:20:18.089      card  ANON-0000-0000-0002   \n",
       "3    2024-03-01  2024-03-01 13:46:33.006      card  ANON-0000-0000-0003   \n",
       "4    2024-03-01  2024-03-01 13:48:14.626      card  ANON-0000-0000-0004   \n",
       "..          ...                      ...       ...                  ...   \n",
       "121  2024-03-16  2024-03-16 12:07:53.915      card  ANON-0000-0000-0061   \n",
       "122  2024-03-16  2024-03-16 15:58:18.458      card  ANON-0000-0000-0009   \n",
       "123  2024-03-16  2024-03-16 16:03:21.738      card  ANON-0000-0000-0009   \n",
       "124  2024-03-16  2024-03-16 16:04:11.444      card  ANON-0000-0000-0012   \n",
       "125  2024-03-16  2024-03-16 17:58:07.241      card  ANON-0000-0000-0062   \n",
       "\n",
       "     money          coffee_name  \n",
       "0     38.7                Latte  \n",
       "1     38.7        Hot Chocolate  \n",
       "2     38.7        Hot Chocolate  \n",
       "3     28.9            Americano  \n",
       "4     38.7                Latte  \n",
       "..     ...                  ...  \n",
       "121   28.9            Americano  \n",
       "122   28.9              Cortado  \n",
       "123   28.9              Cortado  \n",
       "124   28.9              Cortado  \n",
       "125   33.8  Americano with Milk  \n",
       "\n",
       "[108 rows x 6 columns]"
      ]
     },
     "execution_count": 50,
     "metadata": {},
     "output_type": "execute_result"
    }
   ],
   "source": [
    "df.drop_duplicates()"
   ]
  },
  {
   "cell_type": "markdown",
   "metadata": {},
   "source": [
    "Data Processing"
   ]
  },
  {
   "cell_type": "code",
   "execution_count": 53,
   "metadata": {},
   "outputs": [
    {
     "data": {
      "text/plain": [
       "cash_type\n",
       "card    108\n",
       "Name: count, dtype: int64"
      ]
     },
     "execution_count": 53,
     "metadata": {},
     "output_type": "execute_result"
    }
   ],
   "source": [
    "df[\"cash_type\"].value_counts()"
   ]
  },
  {
   "cell_type": "code",
   "execution_count": 54,
   "metadata": {},
   "outputs": [
    {
     "data": {
      "text/plain": [
       "0      38.7\n",
       "1      38.7\n",
       "2      38.7\n",
       "3      28.9\n",
       "4      38.7\n",
       "       ... \n",
       "121    28.9\n",
       "122    28.9\n",
       "123    28.9\n",
       "124    28.9\n",
       "125    33.8\n",
       "Name: money, Length: 108, dtype: float64"
      ]
     },
     "execution_count": 54,
     "metadata": {},
     "output_type": "execute_result"
    }
   ],
   "source": [
    "df[\"money\"]"
   ]
  },
  {
   "cell_type": "code",
   "execution_count": 55,
   "metadata": {},
   "outputs": [
    {
     "name": "stdout",
     "output_type": "stream",
     "text": [
      "0                    Latte\n",
      "1            Hot Chocolate\n",
      "2            Hot Chocolate\n",
      "3                Americano\n",
      "4                    Latte\n",
      "              ...         \n",
      "121              Americano\n",
      "122                Cortado\n",
      "123                Cortado\n",
      "124                Cortado\n",
      "125    Americano with Milk\n",
      "Name: coffee_name, Length: 108, dtype: object\n"
     ]
    }
   ],
   "source": [
    "a=df[\"coffee_name\"]\n",
    "print(a)"
   ]
  },
  {
   "cell_type": "markdown",
   "metadata": {},
   "source": [
    "Data Aggregatin"
   ]
  },
  {
   "cell_type": "code",
   "execution_count": 84,
   "metadata": {},
   "outputs": [
    {
     "data": {
      "text/plain": [
       "<Axes: ylabel='Density'>"
      ]
     },
     "execution_count": 84,
     "metadata": {},
     "output_type": "execute_result"
    },
    {
     "data": {
      "image/png": "[encoded data removed]",
      "text/plain": [
       "<Figure size 640x480 with 1 Axes>"
      ]
     },
     "metadata": {},
     "output_type": "display_data"
    }
   ],
   "source": [
    "df[\"coffee_name\"].value_counts().plot(kind=\"kde\")"
   ]
  },
  {
   "cell_type": "code",
   "execution_count": 60,
   "metadata": {},
   "outputs": [
    {
     "data": {
      "text/plain": [
       "<Axes: xlabel='date'>"
      ]
     },
     "execution_count": 60,
     "metadata": {},
     "output_type": "execute_result"
    },
    {
     "data": {
      "image/png": "[encoded data removed]",
      "text/plain": [
       "<Figure size 640x480 with 1 Axes>"
      ]
     },
     "metadata": {},
     "output_type": "display_data"
    }
   ],
   "source": [
    "df[\"date\"].value_counts().plot(kind=\"bar\")"
   ]
  },
  {
   "cell_type": "code",
   "execution_count": 82,
   "metadata": {},
   "outputs": [
    {
     "data": {
      "text/plain": [
       "<Axes: ylabel='count'>"
      ]
     },
     "execution_count": 82,
     "metadata": {},
     "output_type": "execute_result"
    },
    {
     "data": {
      "image/png": "[encoded data removed]",
      "text/plain": [
       "<Figure size 640x480 with 1 Axes>"
      ]
     },
     "metadata": {},
     "output_type": "display_data"
    }
   ],
   "source": [
    "df[\"coffee_name\"].value_counts().plot(kind=\"pie\")"
   ]
  },
  {
   "cell_type": "code",
   "execution_count": 63,
   "metadata": {},
   "outputs": [
    {
     "data": {
      "text/plain": [
       "'card'"
      ]
     },
     "execution_count": 63,
     "metadata": {},
     "output_type": "execute_result"
    }
   ],
   "source": [
    "df[\"cash_type\"].max()"
   ]
  },
  {
   "cell_type": "code",
   "execution_count": 64,
   "metadata": {},
   "outputs": [
    {
     "data": {
      "text/plain": [
       "'Americano'"
      ]
     },
     "execution_count": 64,
     "metadata": {},
     "output_type": "execute_result"
    }
   ],
   "source": [
    "df[\"coffee_name\"].min()"
   ]
  },
  {
   "cell_type": "code",
   "execution_count": 65,
   "metadata": {},
   "outputs": [
    {
     "name": "stdout",
     "output_type": "stream",
     "text": [
      "<class 'pandas.core.frame.DataFrame'>\n",
      "Index: 108 entries, 0 to 125\n",
      "Data columns (total 6 columns):\n",
      " #   Column       Non-Null Count  Dtype  \n",
      "---  ------       --------------  -----  \n",
      " 0   date         108 non-null    object \n",
      " 1   datetime     108 non-null    object \n",
      " 2   cash_type    108 non-null    object \n",
      " 3   card         108 non-null    object \n",
      " 4   money        108 non-null    float64\n",
      " 5   coffee_name  108 non-null    object \n",
      "dtypes: float64(1), object(5)\n",
      "memory usage: 5.9+ KB\n"
     ]
    }
   ],
   "source": [
    "df.info()"
   ]
  },
  {
   "cell_type": "code",
   "execution_count": 66,
   "metadata": {},
   "outputs": [
    {
     "data": {
      "text/plain": [
       "0    Americano\n",
       "Name: coffee_name, dtype: object"
      ]
     },
     "execution_count": 66,
     "metadata": {},
     "output_type": "execute_result"
    }
   ],
   "source": [
    "df[\"coffee_name\"].mode()"
   ]
  },
  {
   "cell_type": "code",
   "execution_count": 8,
   "metadata": {},
   "outputs": [
    {
     "data": {
      "text/plain": [
       "4261.399999999998"
      ]
     },
     "execution_count": 8,
     "metadata": {},
     "output_type": "execute_result"
    }
   ],
   "source": [
    "df[\"money\"].sum()"
   ]
  },
  {
   "cell_type": "code",
   "execution_count": 68,
   "metadata": {},
   "outputs": [
    {
     "data": {
      "text/plain": [
       "'2024-03-012024-03-012024-03-012024-03-012024-03-012024-03-012024-03-012024-03-012024-03-012024-03-012024-03-012024-03-022024-03-022024-03-022024-03-022024-03-022024-03-022024-03-032024-03-032024-03-032024-03-032024-03-032024-03-032024-03-032024-03-032024-03-032024-03-042024-03-042024-03-042024-03-042024-03-052024-03-052024-03-052024-03-052024-03-052024-03-052024-03-052024-03-052024-03-052024-03-062024-03-062024-03-062024-03-062024-03-072024-03-072024-03-072024-03-072024-03-082024-03-082024-03-082024-03-082024-03-082024-03-082024-03-082024-03-082024-03-092024-03-092024-03-092024-03-092024-03-092024-03-092024-03-092024-03-092024-03-092024-03-092024-03-092024-03-092024-03-092024-03-102024-03-102024-03-102024-03-112024-03-112024-03-112024-03-112024-03-122024-03-122024-03-122024-03-122024-03-122024-03-122024-03-132024-03-132024-03-132024-03-132024-03-132024-03-132024-03-132024-03-132024-03-142024-03-142024-03-142024-03-142024-03-142024-03-142024-03-142024-03-142024-03-142024-03-142024-03-142024-03-152024-03-152024-03-162024-03-162024-03-162024-03-162024-03-162024-03-16'"
      ]
     },
     "execution_count": 68,
     "metadata": {},
     "output_type": "execute_result"
    }
   ],
   "source": [
    "df[\"date\"].sum()"
   ]
  },
  {
   "cell_type": "code",
   "execution_count": 69,
   "metadata": {},
   "outputs": [
    {
     "data": {
      "text/plain": [
       "0    38.7\n",
       "Name: money, dtype: float64"
      ]
     },
     "execution_count": 69,
     "metadata": {},
     "output_type": "execute_result"
    }
   ],
   "source": [
    "df[\"money\"].mode()"
   ]
  },
  {
   "cell_type": "code",
   "execution_count": 71,
   "metadata": {},
   "outputs": [
    {
     "data": {
      "text/plain": [
       "cash_type\n",
       "card    108\n",
       "Name: count, dtype: int64"
      ]
     },
     "execution_count": 71,
     "metadata": {},
     "output_type": "execute_result"
    }
   ],
   "source": [
    "df[\"cash_type\"].value_counts()"
   ]
  },
  {
   "cell_type": "code",
   "execution_count": 72,
   "metadata": {},
   "outputs": [
    {
     "data": {
      "text/plain": [
       "date\n",
       "2024-03-09    13\n",
       "2024-03-01    11\n",
       "2024-03-14    11\n",
       "2024-03-03     9\n",
       "2024-03-05     9\n",
       "2024-03-08     8\n",
       "2024-03-13     8\n",
       "2024-03-02     6\n",
       "2024-03-12     6\n",
       "2024-03-16     6\n",
       "2024-03-04     4\n",
       "2024-03-06     4\n",
       "2024-03-07     4\n",
       "2024-03-11     4\n",
       "2024-03-10     3\n",
       "2024-03-15     2\n",
       "Name: count, dtype: int64"
      ]
     },
     "execution_count": 72,
     "metadata": {},
     "output_type": "execute_result"
    }
   ],
   "source": [
    "df[\"date\"].value_counts()"
   ]
  },
  {
   "cell_type": "code",
   "execution_count": 77,
   "metadata": {},
   "outputs": [
    {
     "data": {
      "text/plain": [
       "33.8"
      ]
     },
     "execution_count": 77,
     "metadata": {},
     "output_type": "execute_result"
    }
   ],
   "source": [
    "df[\"money\"].median()"
   ]
  },
  {
   "cell_type": "code",
   "execution_count": 79,
   "metadata": {},
   "outputs": [
    {
     "data": {
      "text/html": [
       "<div>\n",
       "<style scoped>\n",
       "    .dataframe tbody tr th:only-of-type {\n",
       "        vertical-align: middle;\n",
       "    }\n",
       "\n",
       "    .dataframe tbody tr th {\n",
       "        vertical-align: top;\n",
       "    }\n",
       "\n",
       "    .dataframe thead tr th {\n",
       "        text-align: left;\n",
       "    }\n",
       "\n",
       "    .dataframe thead tr:last-of-type th {\n",
       "        text-align: right;\n",
       "    }\n",
       "</style>\n",
       "<table border=\"1\" class=\"dataframe\">\n",
       "  <thead>\n",
       "    <tr>\n",
       "      <th></th>\n",
       "      <th colspan=\"4\" halign=\"left\">date</th>\n",
       "      <th colspan=\"4\" halign=\"left\">datetime</th>\n",
       "      <th colspan=\"4\" halign=\"left\">cash_type</th>\n",
       "      <th colspan=\"4\" halign=\"left\">card</th>\n",
       "      <th colspan=\"4\" halign=\"left\">coffee_name</th>\n",
       "    </tr>\n",
       "    <tr>\n",
       "      <th></th>\n",
       "      <th>count</th>\n",
       "      <th>unique</th>\n",
       "      <th>top</th>\n",
       "      <th>freq</th>\n",
       "      <th>count</th>\n",
       "      <th>unique</th>\n",
       "      <th>top</th>\n",
       "      <th>freq</th>\n",
       "      <th>count</th>\n",
       "      <th>unique</th>\n",
       "      <th>top</th>\n",
       "      <th>freq</th>\n",
       "      <th>count</th>\n",
       "      <th>unique</th>\n",
       "      <th>top</th>\n",
       "      <th>freq</th>\n",
       "      <th>count</th>\n",
       "      <th>unique</th>\n",
       "      <th>top</th>\n",
       "      <th>freq</th>\n",
       "    </tr>\n",
       "    <tr>\n",
       "      <th>money</th>\n",
       "      <th></th>\n",
       "      <th></th>\n",
       "      <th></th>\n",
       "      <th></th>\n",
       "      <th></th>\n",
       "      <th></th>\n",
       "      <th></th>\n",
       "      <th></th>\n",
       "      <th></th>\n",
       "      <th></th>\n",
       "      <th></th>\n",
       "      <th></th>\n",
       "      <th></th>\n",
       "      <th></th>\n",
       "      <th></th>\n",
       "      <th></th>\n",
       "      <th></th>\n",
       "      <th></th>\n",
       "      <th></th>\n",
       "      <th></th>\n",
       "    </tr>\n",
       "  </thead>\n",
       "  <tbody>\n",
       "    <tr>\n",
       "      <th>24.0</th>\n",
       "      <td>8</td>\n",
       "      <td>5</td>\n",
       "      <td>2024-03-13</td>\n",
       "      <td>3</td>\n",
       "      <td>8</td>\n",
       "      <td>8</td>\n",
       "      <td>2024-03-04 14:04:37.734</td>\n",
       "      <td>1</td>\n",
       "      <td>8</td>\n",
       "      <td>1</td>\n",
       "      <td>card</td>\n",
       "      <td>8</td>\n",
       "      <td>8</td>\n",
       "      <td>7</td>\n",
       "      <td>ANON-0000-0000-0053</td>\n",
       "      <td>2</td>\n",
       "      <td>8</td>\n",
       "      <td>1</td>\n",
       "      <td>Espresso</td>\n",
       "      <td>8</td>\n",
       "    </tr>\n",
       "    <tr>\n",
       "      <th>28.9</th>\n",
       "      <td>37</td>\n",
       "      <td>15</td>\n",
       "      <td>2024-03-08</td>\n",
       "      <td>4</td>\n",
       "      <td>37</td>\n",
       "      <td>37</td>\n",
       "      <td>2024-03-01 13:46:33.006</td>\n",
       "      <td>1</td>\n",
       "      <td>37</td>\n",
       "      <td>1</td>\n",
       "      <td>card</td>\n",
       "      <td>37</td>\n",
       "      <td>37</td>\n",
       "      <td>21</td>\n",
       "      <td>ANON-0000-0000-0012</td>\n",
       "      <td>10</td>\n",
       "      <td>37</td>\n",
       "      <td>2</td>\n",
       "      <td>Americano</td>\n",
       "      <td>23</td>\n",
       "    </tr>\n",
       "    <tr>\n",
       "      <th>33.8</th>\n",
       "      <td>20</td>\n",
       "      <td>11</td>\n",
       "      <td>2024-03-01</td>\n",
       "      <td>4</td>\n",
       "      <td>20</td>\n",
       "      <td>20</td>\n",
       "      <td>2024-03-01 15:39:47.726</td>\n",
       "      <td>1</td>\n",
       "      <td>20</td>\n",
       "      <td>1</td>\n",
       "      <td>card</td>\n",
       "      <td>20</td>\n",
       "      <td>20</td>\n",
       "      <td>16</td>\n",
       "      <td>ANON-0000-0000-0012</td>\n",
       "      <td>3</td>\n",
       "      <td>20</td>\n",
       "      <td>1</td>\n",
       "      <td>Americano with Milk</td>\n",
       "      <td>20</td>\n",
       "    </tr>\n",
       "    <tr>\n",
       "      <th>38.7</th>\n",
       "      <td>43</td>\n",
       "      <td>14</td>\n",
       "      <td>2024-03-05</td>\n",
       "      <td>8</td>\n",
       "      <td>43</td>\n",
       "      <td>43</td>\n",
       "      <td>2024-03-01 10:15:50.520</td>\n",
       "      <td>1</td>\n",
       "      <td>43</td>\n",
       "      <td>1</td>\n",
       "      <td>card</td>\n",
       "      <td>43</td>\n",
       "      <td>43</td>\n",
       "      <td>36</td>\n",
       "      <td>ANON-0000-0000-0001</td>\n",
       "      <td>3</td>\n",
       "      <td>43</td>\n",
       "      <td>4</td>\n",
       "      <td>Hot Chocolate</td>\n",
       "      <td>17</td>\n",
       "    </tr>\n",
       "  </tbody>\n",
       "</table>\n",
       "</div>"
      ],
      "text/plain": [
       "       date                         datetime                                  \\\n",
       "      count unique         top freq    count unique                      top   \n",
       "money                                                                          \n",
       "24.0      8      5  2024-03-13    3        8      8  2024-03-04 14:04:37.734   \n",
       "28.9     37     15  2024-03-08    4       37     37  2024-03-01 13:46:33.006   \n",
       "33.8     20     11  2024-03-01    4       20     20  2024-03-01 15:39:47.726   \n",
       "38.7     43     14  2024-03-05    8       43     43  2024-03-01 10:15:50.520   \n",
       "\n",
       "           cash_type                    card                                   \\\n",
       "      freq     count unique   top freq count unique                  top freq   \n",
       "money                                                                           \n",
       "24.0     1         8      1  card    8     8      7  ANON-0000-0000-0053    2   \n",
       "28.9     1        37      1  card   37    37     21  ANON-0000-0000-0012   10   \n",
       "33.8     1        20      1  card   20    20     16  ANON-0000-0000-0012    3   \n",
       "38.7     1        43      1  card   43    43     36  ANON-0000-0000-0001    3   \n",
       "\n",
       "      coffee_name                                   \n",
       "            count unique                  top freq  \n",
       "money                                               \n",
       "24.0            8      1             Espresso    8  \n",
       "28.9           37      2            Americano   23  \n",
       "33.8           20      1  Americano with Milk   20  \n",
       "38.7           43      4        Hot Chocolate   17  "
      ]
     },
     "execution_count": 79,
     "metadata": {},
     "output_type": "execute_result"
    }
   ],
   "source": [
    "df.groupby(\"money\").describe()"
   ]
  },
  {
   "cell_type": "code",
   "execution_count": 80,
   "metadata": {},
   "outputs": [
    {
     "name": "stderr",
     "output_type": "stream",
     "text": [
      "C:\\Users\\pc\\AppData\\Local\\Temp\\ipykernel_1572\\3896554658.py:1: FutureWarning: DataFrame.fillna with 'method' is deprecated and will raise in a future version. Use obj.ffill() or obj.bfill() instead.\n",
      "  df.fillna(method=\"bfill\")\n"
     ]
    },
    {
     "data": {
      "text/html": [
       "<div>\n",
       "<style scoped>\n",
       "    .dataframe tbody tr th:only-of-type {\n",
       "        vertical-align: middle;\n",
       "    }\n",
       "\n",
       "    .dataframe tbody tr th {\n",
       "        vertical-align: top;\n",
       "    }\n",
       "\n",
       "    .dataframe thead th {\n",
       "        text-align: right;\n",
       "    }\n",
       "</style>\n",
       "<table border=\"1\" class=\"dataframe\">\n",
       "  <thead>\n",
       "    <tr style=\"text-align: right;\">\n",
       "      <th></th>\n",
       "      <th>date</th>\n",
       "      <th>datetime</th>\n",
       "      <th>cash_type</th>\n",
       "      <th>card</th>\n",
       "      <th>money</th>\n",
       "      <th>coffee_name</th>\n",
       "    </tr>\n",
       "  </thead>\n",
       "  <tbody>\n",
       "    <tr>\n",
       "      <th>0</th>\n",
       "      <td>2024-03-01</td>\n",
       "      <td>2024-03-01 10:15:50.520</td>\n",
       "      <td>card</td>\n",
       "      <td>ANON-0000-0000-0001</td>\n",
       "      <td>38.7</td>\n",
       "      <td>Latte</td>\n",
       "    </tr>\n",
       "    <tr>\n",
       "      <th>1</th>\n",
       "      <td>2024-03-01</td>\n",
       "      <td>2024-03-01 12:19:22.539</td>\n",
       "      <td>card</td>\n",
       "      <td>ANON-0000-0000-0002</td>\n",
       "      <td>38.7</td>\n",
       "      <td>Hot Chocolate</td>\n",
       "    </tr>\n",
       "    <tr>\n",
       "      <th>2</th>\n",
       "      <td>2024-03-01</td>\n",
       "      <td>2024-03-01 12:20:18.089</td>\n",
       "      <td>card</td>\n",
       "      <td>ANON-0000-0000-0002</td>\n",
       "      <td>38.7</td>\n",
       "      <td>Hot Chocolate</td>\n",
       "    </tr>\n",
       "    <tr>\n",
       "      <th>3</th>\n",
       "      <td>2024-03-01</td>\n",
       "      <td>2024-03-01 13:46:33.006</td>\n",
       "      <td>card</td>\n",
       "      <td>ANON-0000-0000-0003</td>\n",
       "      <td>28.9</td>\n",
       "      <td>Americano</td>\n",
       "    </tr>\n",
       "    <tr>\n",
       "      <th>4</th>\n",
       "      <td>2024-03-01</td>\n",
       "      <td>2024-03-01 13:48:14.626</td>\n",
       "      <td>card</td>\n",
       "      <td>ANON-0000-0000-0004</td>\n",
       "      <td>38.7</td>\n",
       "      <td>Latte</td>\n",
       "    </tr>\n",
       "    <tr>\n",
       "      <th>...</th>\n",
       "      <td>...</td>\n",
       "      <td>...</td>\n",
       "      <td>...</td>\n",
       "      <td>...</td>\n",
       "      <td>...</td>\n",
       "      <td>...</td>\n",
       "    </tr>\n",
       "    <tr>\n",
       "      <th>121</th>\n",
       "      <td>2024-03-16</td>\n",
       "      <td>2024-03-16 12:07:53.915</td>\n",
       "      <td>card</td>\n",
       "      <td>ANON-0000-0000-0061</td>\n",
       "      <td>28.9</td>\n",
       "      <td>Americano</td>\n",
       "    </tr>\n",
       "    <tr>\n",
       "      <th>122</th>\n",
       "      <td>2024-03-16</td>\n",
       "      <td>2024-03-16 15:58:18.458</td>\n",
       "      <td>card</td>\n",
       "      <td>ANON-0000-0000-0009</td>\n",
       "      <td>28.9</td>\n",
       "      <td>Cortado</td>\n",
       "    </tr>\n",
       "    <tr>\n",
       "      <th>123</th>\n",
       "      <td>2024-03-16</td>\n",
       "      <td>2024-03-16 16:03:21.738</td>\n",
       "      <td>card</td>\n",
       "      <td>ANON-0000-0000-0009</td>\n",
       "      <td>28.9</td>\n",
       "      <td>Cortado</td>\n",
       "    </tr>\n",
       "    <tr>\n",
       "      <th>124</th>\n",
       "      <td>2024-03-16</td>\n",
       "      <td>2024-03-16 16:04:11.444</td>\n",
       "      <td>card</td>\n",
       "      <td>ANON-0000-0000-0012</td>\n",
       "      <td>28.9</td>\n",
       "      <td>Cortado</td>\n",
       "    </tr>\n",
       "    <tr>\n",
       "      <th>125</th>\n",
       "      <td>2024-03-16</td>\n",
       "      <td>2024-03-16 17:58:07.241</td>\n",
       "      <td>card</td>\n",
       "      <td>ANON-0000-0000-0062</td>\n",
       "      <td>33.8</td>\n",
       "      <td>Americano with Milk</td>\n",
       "    </tr>\n",
       "  </tbody>\n",
       "</table>\n",
       "<p>108 rows × 6 columns</p>\n",
       "</div>"
      ],
      "text/plain": [
       "           date                 datetime cash_type                 card  \\\n",
       "0    2024-03-01  2024-03-01 10:15:50.520      card  ANON-0000-0000-0001   \n",
       "1    2024-03-01  2024-03-01 12:19:22.539      card  ANON-0000-0000-0002   \n",
       "2    2024-03-01  2024-03-01 12:20:18.089      card  ANON-0000-0000-0002   \n",
       "3    2024-03-01  2024-03-01 13:46:33.006      card  ANON-0000-0000-0003   \n",
       "4    2024-03-01  2024-03-01 13:48:14.626      card  ANON-0000-0000-0004   \n",
       "..          ...                      ...       ...                  ...   \n",
       "121  2024-03-16  2024-03-16 12:07:53.915      card  ANON-0000-0000-0061   \n",
       "122  2024-03-16  2024-03-16 15:58:18.458      card  ANON-0000-0000-0009   \n",
       "123  2024-03-16  2024-03-16 16:03:21.738      card  ANON-0000-0000-0009   \n",
       "124  2024-03-16  2024-03-16 16:04:11.444      card  ANON-0000-0000-0012   \n",
       "125  2024-03-16  2024-03-16 17:58:07.241      card  ANON-0000-0000-0062   \n",
       "\n",
       "     money          coffee_name  \n",
       "0     38.7                Latte  \n",
       "1     38.7        Hot Chocolate  \n",
       "2     38.7        Hot Chocolate  \n",
       "3     28.9            Americano  \n",
       "4     38.7                Latte  \n",
       "..     ...                  ...  \n",
       "121   28.9            Americano  \n",
       "122   28.9              Cortado  \n",
       "123   28.9              Cortado  \n",
       "124   28.9              Cortado  \n",
       "125   33.8  Americano with Milk  \n",
       "\n",
       "[108 rows x 6 columns]"
      ]
     },
     "execution_count": 80,
     "metadata": {},
     "output_type": "execute_result"
    }
   ],
   "source": [
    "df.fillna(method=\"bfill\")"
   ]
  }
 ],
 "metadata": {
  "kernelspec": {
   "display_name": "base",
   "language": "python",
   "name": "python3"
  },
  "language_info": {
   "codemirror_mode": {
    "name": "ipython",
    "version": 3
   },
   "file_extension": ".py",
   "mimetype": "text/x-python",
   "name": "python",
   "nbconvert_exporter": "python",
   "pygments_lexer": "ipython3",
   "version": "3.12.7"
  }
 },
 "nbformat": 4,
 "nbformat_minor": 2
}
